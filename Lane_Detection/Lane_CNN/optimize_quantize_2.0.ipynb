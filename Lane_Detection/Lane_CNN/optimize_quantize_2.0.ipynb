{
 "cells": [
  {
   "cell_type": "markdown",
   "metadata": {},
   "source": [
    "# B. Full Integer Quantization\n",
    "This approach requires a representative dataset to calibrate activations, resulting in a fully quantized model (weights and activations become 8-bit integers)."
   ]
  },
  {
   "cell_type": "code",
   "execution_count": null,
   "metadata": {},
   "outputs": [],
   "source": [
    "import tensorflow as tf\n",
    "import numpy as np\n",
    "\n",
    "# Load your Keras model\n",
    "model = tf.keras.models.load_model('full_CNN_model.h5')\n",
    "\n",
    "# Create a representative dataset generator\n",
    "def representative_data_gen():  \n",
    "    for _ in range(300):    # Use 100 to 500 samples\n",
    "        # Replace this \"sample\" with real images (preprocessed like your training data)\n",
    "        sample = np.random.rand(1, 80, 160, 3).astype(np.float32)\n",
    "        yield [sample]\n"
   ]
  },
  {
   "cell_type": "code",
   "execution_count": null,
   "metadata": {},
   "outputs": [],
   "source": [
    "# Create a TFLiteConverter and enable optimizations\n",
    "converter = tf.lite.TFLiteConverter.from_keras_model(model)\n",
    "converter.optimizations = [tf.lite.Optimize.DEFAULT]\n",
    "converter.representative_dataset = representative_data_gen\n",
    "\n",
    "# Set the target ops and types to fully quantize\n",
    "converter.target_spec.supported_ops = [tf.lite.OpsSet.TFLITE_BUILTINS_INT8]\n",
    "converter.inference_input_type = tf.uint8  # Or tf.int8 (if your preprocessing supports it)\n",
    "converter.inference_output_type = tf.uint8"
   ]
  },
  {
   "cell_type": "code",
   "execution_count": null,
   "metadata": {},
   "outputs": [],
   "source": [
    "# Convert the model\n",
    "tflite_model_int8 = converter.convert()\n",
    "\n",
    "# Save the quantized TFLite model\n",
    "with open('CNN_model_int8.tflite', 'wb') as f:\n",
    "    f.write(tflite_model_int8)\n",
    "\n",
    "print(\"Model converted to fully quantized TFLite (int8).\")"
   ]
  }
 ],
 "metadata": {
  "kernelspec": {
   "display_name": "lane_environment",
   "language": "python",
   "name": "python3"
  },
  "language_info": {
   "name": "python",
   "version": "3.8.20"
  }
 },
 "nbformat": 4,
 "nbformat_minor": 2
}
