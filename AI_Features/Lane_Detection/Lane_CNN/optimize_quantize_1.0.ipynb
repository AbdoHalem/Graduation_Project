{
 "cells": [
  {
   "cell_type": "markdown",
   "metadata": {},
   "source": [
    "# Optimize and quantize the model using post-training quantization to reduce the model size and improve speed.\n",
    "### A. Dynamic Range Quantization\n",
    "This type of quantization, statically quantizes only the weights from floating point to integer at conversion time, which provides 8-bits of precision"
   ]
  },
  {
   "cell_type": "code",
   "execution_count": 1,
   "metadata": {},
   "outputs": [],
   "source": [
    "import tensorflow as tf"
   ]
  },
  {
   "cell_type": "code",
   "execution_count": 2,
   "metadata": {},
   "outputs": [],
   "source": [
    "# Load your Keras model\n",
    "model = tf.keras.models.load_model('full_CNN_model.h5')"
   ]
  },
  {
   "cell_type": "code",
   "execution_count": 3,
   "metadata": {},
   "outputs": [
    {
     "name": "stdout",
     "output_type": "stream",
     "text": [
      "INFO:tensorflow:Assets written to: C:\\Users\\ABDOHA~1\\AppData\\Local\\Temp\\tmpjv0grrht\\assets\n"
     ]
    },
    {
     "name": "stderr",
     "output_type": "stream",
     "text": [
      "INFO:tensorflow:Assets written to: C:\\Users\\ABDOHA~1\\AppData\\Local\\Temp\\tmpjv0grrht\\assets\n"
     ]
    }
   ],
   "source": [
    "# Create a TFLiteConverter and enable default (dynamic range) quantization\n",
    "converter = tf.lite.TFLiteConverter.from_keras_model(model)\n",
    "converter.optimizations = [tf.lite.Optimize.DEFAULT]\n",
    "# Convert the model\n",
    "tflite_model = converter.convert()"
   ]
  },
  {
   "cell_type": "code",
   "execution_count": 4,
   "metadata": {},
   "outputs": [
    {
     "name": "stdout",
     "output_type": "stream",
     "text": [
      "Model converted to TFLite with dynamic range quantization.\n"
     ]
    }
   ],
   "source": [
    "# Save the TFLite model\n",
    "with open('CNN_model.tflite', 'wb') as f:\n",
    "    f.write(tflite_model)\n",
    "\n",
    "print(\"Model converted to TFLite with dynamic range quantization.\")"
   ]
  }
 ],
 "metadata": {
  "kernelspec": {
   "display_name": "lane_environment",
   "language": "python",
   "name": "python3"
  },
  "language_info": {
   "codemirror_mode": {
    "name": "ipython",
    "version": 3
   },
   "file_extension": ".py",
   "mimetype": "text/x-python",
   "name": "python",
   "nbconvert_exporter": "python",
   "pygments_lexer": "ipython3",
   "version": "3.8.20"
  }
 },
 "nbformat": 4,
 "nbformat_minor": 2
}
