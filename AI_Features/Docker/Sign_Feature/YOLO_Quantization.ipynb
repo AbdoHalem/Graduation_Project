{
 "cells": [
  {
   "cell_type": "markdown",
   "id": "5c1555c7",
   "metadata": {},
   "source": [
    "# Convert to ONNX"
   ]
  },
  {
   "cell_type": "code",
   "execution_count": 1,
   "id": "6915ab48",
   "metadata": {},
   "outputs": [],
   "source": [
    "from ultralytics import YOLO\n",
    "from onnxruntime.quantization import quantize_dynamic, QuantType"
   ]
  },
  {
   "cell_type": "markdown",
   "id": "725a9d33",
   "metadata": {},
   "source": [
    "## 1. Load your trained YOLOv8 model (best.pt)"
   ]
  },
  {
   "cell_type": "code",
   "execution_count": 2,
   "id": "d52aa89e",
   "metadata": {},
   "outputs": [],
   "source": [
    "model = YOLO(\"detection_model/best.pt\")"
   ]
  },
  {
   "cell_type": "markdown",
   "id": "7398c030",
   "metadata": {},
   "source": [
    "## 2. Export the model to ONNX format\n",
    "### This command will create an ONNX model (usually saved as \"best.onnx\" in your current directory)"
   ]
  },
  {
   "cell_type": "code",
   "execution_count": 3,
   "id": "995d5c53",
   "metadata": {},
   "outputs": [
    {
     "name": "stdout",
     "output_type": "stream",
     "text": [
      "Ultralytics 8.3.78 🚀 Python-3.10.12 torch-2.6.0+cpu CPU (Intel Core(TM) i7-4600U 2.10GHz)\n",
      "Model summary (fused): 72 layers, 3,005,843 parameters, 0 gradients, 8.1 GFLOPs\n",
      "\n",
      "\u001b[34m\u001b[1mPyTorch:\u001b[0m starting from 'detection_model/best.pt' with input shape (1, 3, 640, 640) BCHW and output shape(s) (1, 5, 8400) (11.8 MB)\n",
      "\n",
      "\u001b[34m\u001b[1mONNX:\u001b[0m starting export with onnx 1.17.0 opset 19...\n",
      "\u001b[34m\u001b[1mONNX:\u001b[0m slimming with onnxslim 0.1.50...\n",
      "\u001b[34m\u001b[1mONNX:\u001b[0m export success ✅ 1.6s, saved as 'detection_model/best.onnx' (11.7 MB)\n",
      "\n",
      "Export complete (2.6s)\n",
      "Results saved to \u001b[1m/media/abdo-halem/5A7279507279323D/Engineering/My-Github/Graduation_Project/AI_Features/Docker/Sign_Feature/detection_model\u001b[0m\n",
      "Predict:         yolo predict task=detect model=detection_model/best.onnx imgsz=640  \n",
      "Validate:        yolo val task=detect model=detection_model/best.onnx imgsz=640 data=/run/media/omar/Windows-SSD/DATA_SET/data.yaml  \n",
      "Visualize:       https://netron.app\n"
     ]
    },
    {
     "data": {
      "text/plain": [
       "'detection_model/best.onnx'"
      ]
     },
     "execution_count": 3,
     "metadata": {},
     "output_type": "execute_result"
    }
   ],
   "source": [
    "model.export(format=\"onnx\")"
   ]
  },
  {
   "cell_type": "markdown",
   "id": "219a4824",
   "metadata": {},
   "source": [
    "## 3. Set the file paths for the ONNX model and the quantized model"
   ]
  },
  {
   "cell_type": "code",
   "execution_count": 5,
   "id": "0cde1f54",
   "metadata": {},
   "outputs": [],
   "source": [
    "onnx_model_path = \"detection_model/best.onnx\"             # The exported ONNX file\n",
    "quantized_model_path = \"detection_model/best_quant.onnx\"  # The output quantized model filename"
   ]
  },
  {
   "cell_type": "markdown",
   "id": "fd9fc54d",
   "metadata": {},
   "source": [
    "## 4. Quantize the ONNX model (using dynamic quantization to convert weights to INT8)"
   ]
  },
  {
   "cell_type": "code",
   "execution_count": 7,
   "id": "af48ba56",
   "metadata": {},
   "outputs": [
    {
     "name": "stderr",
     "output_type": "stream",
     "text": [
      "WARNING:root:Please consider to run pre-processing before quantization. Refer to example: https://github.com/microsoft/onnxruntime-inference-examples/blob/main/quantization/image_classification/cpu/ReadMe.md \n"
     ]
    },
    {
     "name": "stdout",
     "output_type": "stream",
     "text": [
      "Model quantization complete!\n",
      "Quantized model is saved as: detection_model/best_quant.onnx\n"
     ]
    }
   ],
   "source": [
    "quantize_dynamic(onnx_model_path, quantized_model_path, weight_type=QuantType.QInt8)\n",
    "print(\"Model quantization complete!\")\n",
    "print(\"Quantized model is saved as:\", quantized_model_path)"
   ]
  }
 ],
 "metadata": {
  "kernelspec": {
   "display_name": "sign_env",
   "language": "python",
   "name": "python3"
  },
  "language_info": {
   "codemirror_mode": {
    "name": "ipython",
    "version": 3
   },
   "file_extension": ".py",
   "mimetype": "text/x-python",
   "name": "python",
   "nbconvert_exporter": "python",
   "pygments_lexer": "ipython3",
   "version": "3.10.12"
  }
 },
 "nbformat": 4,
 "nbformat_minor": 5
}
