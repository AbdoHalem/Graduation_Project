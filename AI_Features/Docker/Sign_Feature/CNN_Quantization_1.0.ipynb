{
 "cells": [
  {
   "cell_type": "markdown",
   "metadata": {},
   "source": [
    "# Optimize and quantize the model using post-training quantization to reduce the model size and improve speed.\n",
    "### A. Dynamic Range Quantization\n",
    "This type of quantization, statically quantizes only the weights from floating point to integer at conversion time, which provides 8-bits of precision"
   ]
  },
  {
   "cell_type": "code",
   "execution_count": 19,
   "metadata": {},
   "outputs": [],
   "source": [
    "import tensorflow as tf"
   ]
  },
  {
   "cell_type": "code",
   "execution_count": 20,
   "metadata": {},
   "outputs": [
    {
     "name": "stderr",
     "output_type": "stream",
     "text": [
      "WARNING:absl:Compiled the loaded model, but the compiled metrics have yet to be built. `model.compile_metrics` will be empty until you train or evaluate the model.\n"
     ]
    }
   ],
   "source": [
    "# Load your Keras model\n",
    "model = tf.keras.models.load_model('recognition_model/model_V2.0.h5')"
   ]
  },
  {
   "cell_type": "markdown",
   "metadata": {},
   "source": [
    "## Create a TFLiteConverter and enable default (dynamic range) quantization"
   ]
  },
  {
   "cell_type": "code",
   "execution_count": 21,
   "metadata": {},
   "outputs": [
    {
     "name": "stdout",
     "output_type": "stream",
     "text": [
      "INFO:tensorflow:Assets written to: /tmp/tmpl28_fhq4/assets\n"
     ]
    },
    {
     "name": "stderr",
     "output_type": "stream",
     "text": [
      "INFO:tensorflow:Assets written to: /tmp/tmpl28_fhq4/assets\n"
     ]
    },
    {
     "name": "stdout",
     "output_type": "stream",
     "text": [
      "Saved artifact at '/tmp/tmpl28_fhq4'. The following endpoints are available:\n",
      "\n",
      "* Endpoint 'serve'\n",
      "  args_0 (POSITIONAL_ONLY): TensorSpec(shape=(None, 32, 32, 1), dtype=tf.float32, name='input_layer_1')\n",
      "Output Type:\n",
      "  TensorSpec(shape=(None, 48), dtype=tf.float32, name=None)\n",
      "Captures:\n",
      "  130644387862256: TensorSpec(shape=(), dtype=tf.resource, name=None)\n",
      "  130644387867184: TensorSpec(shape=(), dtype=tf.resource, name=None)\n",
      "  130644388464416: TensorSpec(shape=(), dtype=tf.resource, name=None)\n",
      "  130644388469344: TensorSpec(shape=(), dtype=tf.resource, name=None)\n",
      "  130644388477440: TensorSpec(shape=(), dtype=tf.resource, name=None)\n",
      "  130644388478144: TensorSpec(shape=(), dtype=tf.resource, name=None)\n",
      "  130644388564128: TensorSpec(shape=(), dtype=tf.resource, name=None)\n",
      "  130644388564832: TensorSpec(shape=(), dtype=tf.resource, name=None)\n",
      "  130644388575568: TensorSpec(shape=(), dtype=tf.resource, name=None)\n",
      "  130644386615840: TensorSpec(shape=(), dtype=tf.resource, name=None)\n",
      "  130644386622528: TensorSpec(shape=(), dtype=tf.resource, name=None)\n",
      "  130644386620592: TensorSpec(shape=(), dtype=tf.resource, name=None)\n"
     ]
    },
    {
     "name": "stderr",
     "output_type": "stream",
     "text": [
      "W0000 00:00:1744659463.442221   20719 tf_tfl_flatbuffer_helpers.cc:365] Ignored output_format.\n",
      "W0000 00:00:1744659463.442239   20719 tf_tfl_flatbuffer_helpers.cc:368] Ignored drop_control_dependency.\n",
      "2025-04-14 21:37:43.442521: I tensorflow/cc/saved_model/reader.cc:83] Reading SavedModel from: /tmp/tmpl28_fhq4\n",
      "2025-04-14 21:37:43.443827: I tensorflow/cc/saved_model/reader.cc:52] Reading meta graph with tags { serve }\n",
      "2025-04-14 21:37:43.443852: I tensorflow/cc/saved_model/reader.cc:147] Reading SavedModel debug info (if present) from: /tmp/tmpl28_fhq4\n",
      "2025-04-14 21:37:43.451912: I tensorflow/cc/saved_model/loader.cc:236] Restoring SavedModel bundle.\n",
      "2025-04-14 21:37:43.505357: I tensorflow/cc/saved_model/loader.cc:220] Running initialization op on SavedModel bundle at path: /tmp/tmpl28_fhq4\n",
      "2025-04-14 21:37:43.521004: I tensorflow/cc/saved_model/loader.cc:466] SavedModel load for tags { serve }; Status: success: OK. Took 78487 microseconds.\n"
     ]
    }
   ],
   "source": [
    "# converter = tf.lite.TFLiteConverter.from_keras_model(model)\n",
    "# converter.optimizations = [tf.lite.Optimize.DEFAULT]\n",
    "# # Convert the model\n",
    "# tflite_model = converter.convert()\n",
    "\n",
    "# Create TFLite converter from the Keras model instance\n",
    "converter = tf.lite.TFLiteConverter.from_keras_model(model)\n",
    "converter.optimizations = [tf.lite.Optimize.DEFAULT]\n",
    "# Force use of TFLITE_BUILTINS, which might result in older op versions\n",
    "converter.target_spec.supported_ops = [tf.lite.OpsSet.TFLITE_BUILTINS]\n",
    "# converter.experimental_new_converter = False  # Force legacy ops\n",
    "tflite_model = converter.convert()          # Convert the model to TFLite format\n"
   ]
  },
  {
   "cell_type": "code",
   "execution_count": 22,
   "metadata": {},
   "outputs": [
    {
     "name": "stdout",
     "output_type": "stream",
     "text": [
      "Model converted to TFLite with dynamic range quantization.\n"
     ]
    }
   ],
   "source": [
    "# Save the TFLite model\n",
    "with open('sign_model.tflite', 'wb') as f:\n",
    "    f.write(tflite_model)\n",
    "\n",
    "print(\"Model converted to TFLite with dynamic range quantization.\")"
   ]
  }
 ],
 "metadata": {
  "kernelspec": {
   "display_name": "sign_env",
   "language": "python",
   "name": "python3"
  },
  "language_info": {
   "codemirror_mode": {
    "name": "ipython",
    "version": 3
   },
   "file_extension": ".py",
   "mimetype": "text/x-python",
   "name": "python",
   "nbconvert_exporter": "python",
   "pygments_lexer": "ipython3",
   "version": "3.10.12"
  }
 },
 "nbformat": 4,
 "nbformat_minor": 2
}
