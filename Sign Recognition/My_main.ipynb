{
 "cells": [
  {
   "cell_type": "code",
   "execution_count": 1,
   "metadata": {},
   "outputs": [],
   "source": [
    "import numpy as np\n",
    "import matplotlib.pyplot as plt\n",
    "from keras.models import Sequential\n",
    "from keras.layers import Dense\n",
    "# from keras.optimizers import Adam\n",
    "from tensorflow.keras.optimizers import Adam\n",
    "from keras.utils.np_utils import to_categorical\n",
    "from keras.layers import Dropout, Flatten\n",
    "from keras.layers.convolutional import Conv2D, MaxPooling2D\n",
    "import cv2\n",
    "from sklearn.model_selection import train_test_split\n",
    "# import pickle\n",
    "import os\n",
    "import pandas as pd\n",
    "from keras.preprocessing.image import ImageDataGenerator"
   ]
  },
  {
   "cell_type": "markdown",
   "metadata": {},
   "source": [
    "# Define variables for the \"Dataset\" and \"labels.csv\" paths, and variables to determine the testing-data ratio and image dimensions"
   ]
  },
  {
   "cell_type": "code",
   "execution_count": 2,
   "metadata": {},
   "outputs": [],
   "source": [
    "path = \"Dataset\" \n",
    "labelFile = 'labels.csv'\n",
    "# A batch size of 32 means that the model will process 32 images in each step during training.\n",
    "batch_size_val = 32\n",
    "''' Setting epochs_val = 10 means that the model will iterate over the entire dataset 10 times \n",
    "during training to learn the patterns in the data.'''\n",
    "epochs_val = 10\n",
    "# Resize each image to be 32x32 and have 3 channels (RGB: Red Green Blue)\n",
    "imageDimesions = (32,32,3)\n",
    "testRatio = 0.2    \n",
    "validationRatio = 0.2 "
   ]
  },
  {
   "cell_type": "markdown",
   "metadata": {},
   "source": [
    "# Collecting images from the dataset and convert into numpy array format"
   ]
  },
  {
   "cell_type": "code",
   "execution_count": 3,
   "metadata": {},
   "outputs": [
    {
     "name": "stdout",
     "output_type": "stream",
     "text": [
      "Total Classes Detected: 43\n",
      "Importing Classes.....\n",
      "0 1 2 3 4 5 6 7 8 9 10 11 12 13 14 15 16 17 18 19 20 21 22 23 24 25 26 27 28 29 30 31 32 33 34 35 36 37 38 39 40 41 42  \n"
     ]
    }
   ],
   "source": [
    "count = 0                   # counter used to track the current class\n",
    "images = []                 # list to hold all the images from the dataset\n",
    "classNo = []                # list to hold the class label (integer) corresponding to each image\n",
    "myList = os.listdir(path)   # list containing the names of all folders inside the dataset directory\n",
    "print(\"Total Classes Detected:\", len(myList))\n",
    "noOfClasses = len(myList)\n",
    "print(\"Importing Classes.....\")\n",
    "for x in range (0, len(myList)):\n",
    "    myPicList = os.listdir(path + \"/\" + str(count))\n",
    "    for y in myPicList:\n",
    "        curImg = cv2.imread(path + \"/\" + str(count)+ \"/\" + y)\n",
    "        images.append(curImg)\n",
    "        classNo.append(count)\n",
    "    print(count, end =\" \")\n",
    "    count +=1\n",
    "print(\" \")\n",
    "images = np.array(images)\n",
    "classNo = np.array(classNo)"
   ]
  },
  {
   "cell_type": "markdown",
   "metadata": {},
   "source": [
    "# Split data into 80% training and 20% testing, then split training data into 80% training and 20% validation."
   ]
  },
  {
   "cell_type": "code",
   "execution_count": 4,
   "metadata": {},
   "outputs": [],
   "source": [
    "X_train, X_test, y_train, y_test = train_test_split(images, classNo, test_size=testRatio)\n",
    "X_train, X_validation, y_train, y_validation = train_test_split(X_train, y_train, test_size=validationRatio)"
   ]
  },
  {
   "cell_type": "code",
   "execution_count": 5,
   "metadata": {},
   "outputs": [
    {
     "name": "stdout",
     "output_type": "stream",
     "text": [
      "Data Shapes\n",
      "Train(22271, 32, 32, 3) (22271,)\n",
      "Validation(5568, 32, 32, 3) (5568,)\n",
      "Test(6960, 32, 32, 3) (6960,)\n"
     ]
    }
   ],
   "source": [
    "print(\"Data Shapes\")\n",
    "print(\"Train\",end = \"\"); print(X_train.shape, y_train.shape)\n",
    "print(\"Validation\",end = \"\"); print(X_validation.shape, y_validation.shape)\n",
    "print(\"Test\",end = \"\"); print(X_test.shape, y_test.shape)"
   ]
  },
  {
   "cell_type": "code",
   "execution_count": 11,
   "metadata": {},
   "outputs": [
    {
     "name": "stdout",
     "output_type": "stream",
     "text": [
      "data shape  (43, 2) <class 'pandas.core.frame.DataFrame'>\n"
     ]
    }
   ],
   "source": [
    "data = pd.read_csv(labelFile)\n",
    "print(\"data shape \", data.shape, type(data))"
   ]
  },
  {
   "cell_type": "markdown",
   "metadata": {},
   "source": [
    "# Define Functions for Image Preprocessing\n",
    "*grayscale*: Converts a color image in BGR format(Blue, green, red) to a grayscale image.\n",
    "\n",
    "*equalize*: Enhances the contrast of a grayscale image by applying histogram equalization.\n",
    "\n",
    "*preprocessing*: Prepare the image for model training by normalize the pixels to be from 0 to 1 instead of 0 to 255"
   ]
  },
  {
   "cell_type": "code",
   "execution_count": 12,
   "metadata": {},
   "outputs": [],
   "source": [
    "def grayscale(img):\n",
    "    img = cv2.cvtColor(img, cv2.COLOR_BGR2GRAY)\n",
    "    return img\n",
    "def equalize(img):\n",
    "    img = cv2.equalizeHist(img)\n",
    "    return img\n",
    "def preprocessing(img):\n",
    "    img = grayscale(img)     \n",
    "    img = equalize(img)      \n",
    "    img = img/255            \n",
    "    return img"
   ]
  },
  {
   "cell_type": "markdown",
   "metadata": {},
   "source": [
    "# Preprocessing all the images in training, validation, and testing sets"
   ]
  },
  {
   "cell_type": "code",
   "execution_count": 13,
   "metadata": {},
   "outputs": [],
   "source": [
    "X_train = np.array(list(map(preprocessing, X_train)))  \n",
    "X_validation = np.array(list(map(preprocessing, X_validation)))\n",
    "X_test = np.array(list(map(preprocessing, X_test)))"
   ]
  },
  {
   "cell_type": "code",
   "execution_count": 15,
   "metadata": {},
   "outputs": [],
   "source": [
    "X_train = X_train.reshape(X_train.shape[0], X_train.shape[1], X_train.shape[2], 1)\n",
    "X_validation = X_validation.reshape(X_validation.shape[0], X_validation.shape[1], X_validation.shape[2], 1)\n",
    "X_test = X_test.reshape(X_test.shape[0], X_test.shape[1], X_test.shape[2], 1)"
   ]
  },
  {
   "cell_type": "markdown",
   "metadata": {},
   "source": [
    "# This section of the code uses Keras's ImageDataGenerator class to augment the training images"
   ]
  },
  {
   "cell_type": "markdown",
   "metadata": {},
   "source": [
    "# Importance of Data Augmentation:\n",
    "### 1- Improved Generalization\n",
    "### 2- Handling Limited Data\n",
    "### 3- Increased Model Robustness\n",
    "### 4- Real-time Processing"
   ]
  },
  {
   "cell_type": "code",
   "execution_count": 16,
   "metadata": {},
   "outputs": [],
   "source": [
    "# It helps improve the model's generalization ability by artificially expanding \n",
    "# the size of the training dataset through various transformations.\n",
    "dataGen = ImageDataGenerator(width_shift_range=0.1,   #This randomly shifts the image horizontally by up to 10% of its width\n",
    "                            height_shift_range=0.1,   #This randomly shifts the image vertically by up to 10% of its height\n",
    "                            zoom_range=0.2,           #This applies a random zoom to the image, with a zoom factor ranging from 0.8 to 1.2 (20% zoom)\n",
    "                            shear_range=0.1,          #This applies a random shear transformation (distorting the image along an axis)\n",
    "                            rotation_range=10)        #This randomly rotates the image by up to 10 degrees\n",
    "dataGen.fit(X_train)\n",
    "# It takes the training images (X_train) and their corresponding labels (y_train),\n",
    "# and outputs them in batches of size 20.\n",
    "batches = dataGen.flow(X_train, y_train, batch_size=20)\n",
    "X_batch, y_batch = next(batches)"
   ]
  },
  {
   "cell_type": "markdown",
   "metadata": {},
   "source": [
    "# Convert integer labels into a one-hot encoded format."
   ]
  },
  {
   "cell_type": "code",
   "execution_count": 17,
   "metadata": {},
   "outputs": [],
   "source": [
    "y_train = to_categorical(y_train, noOfClasses)\n",
    "y_validation = to_categorical(y_validation, noOfClasses)\n",
    "y_test = to_categorical(y_test, noOfClasses)"
   ]
  },
  {
   "cell_type": "code",
   "execution_count": 18,
   "metadata": {},
   "outputs": [],
   "source": [
    "def myModel():\n",
    "    model = Sequential()\n",
    "    '''60: The number of filters (or kernels) to use in this convolutional layer.\n",
    "    (5, 5): The size of each filter (5 pixels by 5 pixels).\n",
    "    input_shape=(imageDimesions[0], imageDimesions[1], 1): Specifies the shape of the input data.\n",
    "    In this case, it's a grayscale image (1 channel) with dimensions 32x32 pixels.\n",
    "    activation='relu': The activation function used to introduce non-linearity. \n",
    "    The Rectified Linear Unit (ReLU) activation function helps to alleviate the vanishing gradient problem.'''\n",
    "    # This layer learns to detect features (like edges or textures) in the input images.\n",
    "    model.add((Conv2D(60, (5,5), input_shape=(imageDimesions[0], imageDimesions[1], 1), activation='relu')))  # ADDING MORE CONVOLUTION LAYERS = LESS FEATURES BUT CAN CAUSE ACCURACY TO INCREASE\n",
    "    # Adds another convolutional layer with the same number of filters and filter size.\n",
    "    # This helps in capturing more complex patterns in the image.\n",
    "    model.add((Conv2D(60, (5,5), activation='relu')))\n",
    "    # This layer reduces the spatial dimensions (height and width) of the input volume.\n",
    "    model.add(MaxPooling2D(pool_size=(2,2)))\n",
    "    # These lines add two more convolutional layers, each with 30 filters and a 3x3 filter size,\n",
    "    # followed by another max pooling layer.\n",
    "    model.add((Conv2D(30, (3,3), activation='relu')))\n",
    "    model.add((Conv2D(30, (3,3), activation='relu')))\n",
    "    model.add(MaxPooling2D(pool_size=(2,2)))\n",
    "    # The Dropout(0.5) layer is used to prevent overfitting by randomly setting 50% of \n",
    "    # the input units to zero during training.\n",
    "    model.add(Dropout(0.5))\n",
    "    # This layer flattens the 2D matrices into a 1D vector, which is necessary before\n",
    "    # connecting to the fully connected (Dense) layers.\n",
    "    model.add(Flatten())\n",
    "    # The first Dense layer has 500 neurons and uses the ReLU activation function.\n",
    "    # This layer combines the features learned in the previous layers to make predictions\n",
    "    model.add(Dense(500, activation='relu'))\n",
    "    model.add(Dropout(0.5))\n",
    "    # activation='softmax': The softmax activation function is used for multi-class classification.\n",
    "    # It outputs probabilities for each class, summing to 1.\n",
    "    model.add(Dense(noOfClasses, activation='softmax'))\n",
    "    # model.compile(Adam(lr=0.001), loss='categorical_crossentropy', metrics=['accuracy'])\n",
    "    '''Adam(lr=0.001): The Adam optimizer is used to minimize the loss function. \n",
    "    The learning rate is set to 0.001.\n",
    "    loss='categorical_crossentropy': This loss function is suitable for multi-class \n",
    "    classification problems with one-hot encoded labels.\n",
    "    metrics=['accuracy']: The model's performance will be evaluated based on accuracy\n",
    "     during training and validation.'''\n",
    "    model.compile(Adam(lr=0.001), loss='categorical_crossentropy', metrics=['accuracy'])\n",
    "    return model"
   ]
  },
  {
   "cell_type": "code",
   "execution_count": 19,
   "metadata": {},
   "outputs": [
    {
     "name": "stderr",
     "output_type": "stream",
     "text": [
      "c:\\ProgramData\\anaconda3\\envs\\Abdo_Halem\\lib\\site-packages\\keras\\optimizer_v2\\optimizer_v2.py:356: UserWarning: The `lr` argument is deprecated, use `learning_rate` instead.\n",
      "  \"The `lr` argument is deprecated, use `learning_rate` instead.\")\n",
      "c:\\ProgramData\\anaconda3\\envs\\Abdo_Halem\\lib\\site-packages\\keras\\engine\\training.py:1972: UserWarning: `Model.fit_generator` is deprecated and will be removed in a future version. Please use `Model.fit`, which supports generators.\n",
      "  warnings.warn('`Model.fit_generator` is deprecated and '\n"
     ]
    },
    {
     "name": "stdout",
     "output_type": "stream",
     "text": [
      "Model: \"sequential\"\n",
      "_________________________________________________________________\n",
      "Layer (type)                 Output Shape              Param #   \n",
      "=================================================================\n",
      "conv2d (Conv2D)              (None, 28, 28, 60)        1560      \n",
      "_________________________________________________________________\n",
      "conv2d_1 (Conv2D)            (None, 24, 24, 60)        90060     \n",
      "_________________________________________________________________\n",
      "max_pooling2d (MaxPooling2D) (None, 12, 12, 60)        0         \n",
      "_________________________________________________________________\n",
      "conv2d_2 (Conv2D)            (None, 10, 10, 30)        16230     \n",
      "_________________________________________________________________\n",
      "conv2d_3 (Conv2D)            (None, 8, 8, 30)          8130      \n",
      "_________________________________________________________________\n",
      "max_pooling2d_1 (MaxPooling2 (None, 4, 4, 30)          0         \n",
      "_________________________________________________________________\n",
      "dropout (Dropout)            (None, 4, 4, 30)          0         \n",
      "_________________________________________________________________\n",
      "flatten (Flatten)            (None, 480)               0         \n",
      "_________________________________________________________________\n",
      "dense (Dense)                (None, 500)               240500    \n",
      "_________________________________________________________________\n",
      "dropout_1 (Dropout)          (None, 500)               0         \n",
      "_________________________________________________________________\n",
      "dense_1 (Dense)              (None, 43)                21543     \n",
      "=================================================================\n",
      "Total params: 378,023\n",
      "Trainable params: 378,023\n",
      "Non-trainable params: 0\n",
      "_________________________________________________________________\n",
      "None\n",
      "Epoch 1/10\n",
      "695/695 [==============================] - 192s 275ms/step - loss: 2.5589 - accuracy: 0.2859 - val_loss: 0.8902 - val_accuracy: 0.7342\n",
      "Epoch 2/10\n",
      "695/695 [==============================] - 189s 271ms/step - loss: 1.2465 - accuracy: 0.6137 - val_loss: 0.3628 - val_accuracy: 0.8910\n",
      "Epoch 3/10\n",
      "695/695 [==============================] - 175s 252ms/step - loss: 0.8479 - accuracy: 0.7331 - val_loss: 0.2295 - val_accuracy: 0.9323\n",
      "Epoch 4/10\n",
      "695/695 [==============================] - 187s 269ms/step - loss: 0.6504 - accuracy: 0.7925 - val_loss: 0.1689 - val_accuracy: 0.9520\n",
      "Epoch 5/10\n",
      "695/695 [==============================] - 191s 275ms/step - loss: 0.5387 - accuracy: 0.8270 - val_loss: 0.1161 - val_accuracy: 0.9648\n",
      "Epoch 6/10\n",
      "695/695 [==============================] - 184s 264ms/step - loss: 0.4651 - accuracy: 0.8549 - val_loss: 0.0841 - val_accuracy: 0.9786\n",
      "Epoch 7/10\n",
      "695/695 [==============================] - 186s 267ms/step - loss: 0.4165 - accuracy: 0.8714 - val_loss: 0.0802 - val_accuracy: 0.9741\n",
      "Epoch 8/10\n",
      "695/695 [==============================] - 183s 264ms/step - loss: 0.3830 - accuracy: 0.8821 - val_loss: 0.0742 - val_accuracy: 0.9788\n",
      "Epoch 9/10\n",
      "695/695 [==============================] - 191s 275ms/step - loss: 0.3493 - accuracy: 0.8905 - val_loss: 0.0604 - val_accuracy: 0.9838\n",
      "Epoch 10/10\n",
      "695/695 [==============================] - 191s 275ms/step - loss: 0.3114 - accuracy: 0.9020 - val_loss: 0.0543 - val_accuracy: 0.9847\n"
     ]
    }
   ],
   "source": [
    "model = myModel()\n",
    "print(model.summary())\n",
    "history = model.fit_generator(dataGen.flow(X_train, y_train, batch_size=32), steps_per_epoch=len(X_train)//32, epochs=epochs_val, validation_data=(X_validation, y_validation), shuffle=1)"
   ]
  },
  {
   "cell_type": "code",
   "execution_count": 20,
   "metadata": {},
   "outputs": [
    {
     "data": {
      "image/png": "[encoded data removed]",
      "text/plain": [
       "<matplotlib.figure.Figure at 0x2a51e5e7780>"
      ]
     },
     "metadata": {
      "needs_background": "light"
     },
     "output_type": "display_data"
    },
    {
     "data": {
      "image/png": "[encoded data removed]",
      "text/plain": [
       "<matplotlib.figure.Figure at 0x2a530679898>"
      ]
     },
     "metadata": {
      "needs_background": "light"
     },
     "output_type": "display_data"
    },
    {
     "name": "stdout",
     "output_type": "stream",
     "text": [
      "Test Score: 0.052397966384887695\n",
      "Test Accuracy: 0.9856321811676025\n"
     ]
    }
   ],
   "source": [
    "plt.figure(1)\n",
    "plt.plot(history.history['loss'])\n",
    "plt.plot(history.history['val_loss'])\n",
    "plt.legend(['training','validation'])\n",
    "plt.title('loss')\n",
    "plt.xlabel('epoch')\n",
    "plt.figure(2)\n",
    "plt.plot(history.history['accuracy'])\n",
    "plt.plot(history.history['val_accuracy'])\n",
    "plt.legend(['training','validation'])\n",
    "plt.title('Acurracy')\n",
    "plt.xlabel('epoch')\n",
    "plt.show()\n",
    "score = model.evaluate(X_test, y_test, verbose=0)\n",
    "print('Test Score:',score[0])\n",
    "print('Test Accuracy:',score[1])"
   ]
  },
  {
   "cell_type": "markdown",
   "metadata": {},
   "source": [
    "# Save the Model"
   ]
  },
  {
   "cell_type": "code",
   "execution_count": 21,
   "metadata": {},
   "outputs": [],
   "source": [
    "model.save(\"model.h5\")"
   ]
  }
 ],
 "metadata": {
  "kernelspec": {
   "display_name": "Abdo_Halem",
   "language": "python",
   "name": "python3"
  },
  "language_info": {
   "codemirror_mode": {
    "name": "ipython",
    "version": 3
   },
   "file_extension": ".py",
   "mimetype": "text/x-python",
   "name": "python",
   "nbconvert_exporter": "python",
   "pygments_lexer": "ipython3",
   "version": "3.6.13"
  }
 },
 "nbformat": 4,
 "nbformat_minor": 2
}
